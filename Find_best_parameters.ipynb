{
  "nbformat": 4,
  "nbformat_minor": 0,
  "metadata": {
    "colab": {
      "provenance": [],
      "include_colab_link": true
    },
    "kernelspec": {
      "name": "python3",
      "display_name": "Python 3"
    },
    "language_info": {
      "name": "python"
    }
  },
  "cells": [
    {
      "cell_type": "markdown",
      "metadata": {
        "id": "view-in-github",
        "colab_type": "text"
      },
      "source": [
        "<a href=\"https://colab.research.google.com/github/786nazi/test1/blob/main/Find_best_parameters.ipynb\" target=\"_parent\"><img src=\"https://colab.research.google.com/assets/colab-badge.svg\" alt=\"Open In Colab\"/></a>"
      ]
    },
    {
      "cell_type": "code",
      "execution_count": null,
      "metadata": {
        "id": "VOJx_QrLzt7_"
      },
      "outputs": [],
      "source": [
        "import numpy as np\n",
        "def calc_p_xi(betas,x):\n",
        "  tmp = betas[0] + betas[1] * x[0] + betas[2] * x[1]\n",
        "  return 1 / (1+ np.exp(-tmp))"
      ]
    },
    {
      "cell_type": "code",
      "source": [
        "def calc_likelihood(Y_hat, Y):\n",
        "  result = 1\n",
        "  for y_hat, y in zip(Y_hat, Y):\n",
        "    result *= (y_hat**y) * ((1-y_hat) ** (1-y))\n",
        "  return result"
      ],
      "metadata": {
        "id": "FY-NHW1j2nyO"
      },
      "execution_count": null,
      "outputs": []
    },
    {
      "cell_type": "code",
      "source": [
        "data = [[0.5,-0.4],\n",
        "     [0.6, -0.6],\n",
        "     [-0.8, 0.5]]\n",
        "Y = [1,1,0]"
      ],
      "metadata": {
        "id": "iMMjCRtF0Haj"
      },
      "execution_count": null,
      "outputs": []
    },
    {
      "cell_type": "code",
      "source": [
        "Y_hat = []\n",
        "betas = [0.5,1,2]\n",
        "for x in data:\n",
        "  Y_hat.append(calc_p_xi(betas,x))\n",
        "print(Y_hat)\n",
        "print(calc_likelihood(Y_hat,Y))"
      ],
      "metadata": {
        "colab": {
          "base_uri": "https://localhost:8080/"
        },
        "id": "UlVfuEu11FOO",
        "outputId": "845fbf99-4147-405d-bccf-745959a341e1"
      },
      "execution_count": null,
      "outputs": [
        {
          "output_type": "stream",
          "name": "stdout",
          "text": [
            "[0.5498339973124778, 0.47502081252106, 0.6681877721681662]\n",
            "0.08666357777386886\n"
          ]
        }
      ]
    },
    {
      "cell_type": "code",
      "source": [
        "Y_hat = []\n",
        "betas = [-0.5,-1,2]\n",
        "for x in data:\n",
        "  Y_hat.append(calc_p_xi(betas,x))\n",
        "print(Y_hat)\n",
        "print(calc_likelihood(Y_hat,Y))"
      ],
      "metadata": {
        "colab": {
          "base_uri": "https://localhost:8080/"
        },
        "id": "mxT-xupv2YRW",
        "outputId": "b5b2082a-a247-4cc9-e915-88088fa76669"
      },
      "execution_count": null,
      "outputs": [
        {
          "output_type": "stream",
          "name": "stdout",
          "text": [
            "[0.14185106490048777, 0.09112296101485616, 0.7858349830425586]\n",
            "0.0027682732490487824\n"
          ]
        }
      ]
    },
    {
      "cell_type": "code",
      "source": [
        "Y_hat = []\n",
        "betas = [0.5,1,-2]\n",
        "for x in data:\n",
        "  Y_hat.append(calc_p_xi(betas,x))\n",
        "print(Y_hat)\n",
        "print(calc_likelihood(Y_hat,Y))"
      ],
      "metadata": {
        "colab": {
          "base_uri": "https://localhost:8080/"
        },
        "id": "PBhbK2qi4DE9",
        "outputId": "1ccfebfb-3c9e-4851-db95-91ec56ad13f7"
      },
      "execution_count": null,
      "outputs": [
        {
          "output_type": "stream",
          "name": "stdout",
          "text": [
            "[0.8581489350995123, 0.9088770389851438, 0.2141650169574414]\n",
            "0.612913459145812\n"
          ]
        }
      ]
    },
    {
      "cell_type": "code",
      "source": [
        "Y_hat = []\n",
        "betas = [-0.5,1,2]\n",
        "for x in data:\n",
        "  Y_hat.append(calc_p_xi(betas,x))\n",
        "print(Y_hat)\n",
        "print(calc_likelihood(Y_hat,Y))"
      ],
      "metadata": {
        "colab": {
          "base_uri": "https://localhost:8080/"
        },
        "id": "_fbrlYrA4G1K",
        "outputId": "9d856997-c579-49ce-a77e-25f60baddb39"
      },
      "execution_count": null,
      "outputs": [
        {
          "output_type": "stream",
          "name": "stdout",
          "text": [
            "[0.31002551887238755, 0.24973989440488234, 0.425557483188341]\n",
            "0.04447663715036737\n"
          ]
        }
      ]
    },
    {
      "cell_type": "code",
      "source": [],
      "metadata": {
        "id": "R7514o1e4J5r"
      },
      "execution_count": null,
      "outputs": []
    }
  ]
}